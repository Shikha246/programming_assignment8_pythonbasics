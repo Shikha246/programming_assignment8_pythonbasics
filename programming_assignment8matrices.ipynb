{
 "cells": [
  {
   "cell_type": "markdown",
   "id": "76799569",
   "metadata": {},
   "source": [
    "## 1. Write a Python Program to Add Two Matrices?"
   ]
  },
  {
   "cell_type": "code",
   "execution_count": 3,
   "id": "b1917c4e",
   "metadata": {},
   "outputs": [
    {
     "name": "stdout",
     "output_type": "stream",
     "text": [
      "Enter the value of m\n",
      "2\n",
      "Enter the value of n\n",
      "2\n",
      "Enter Matrix A\n",
      "Enter o[00]5\n",
      "Enter o[01]5\n",
      "Enter o[10]3\n",
      "Enter o[11]4\n",
      "[[5, 5], [3, 4]]\n",
      "Enter Matrix B\n",
      "Enter o[00]5\n",
      "Enter o[01]6\n",
      "Enter o[10]7\n",
      "Enter o[11]8\n",
      "[[5, 6], [7, 8]]\n",
      "The sum of the matrices is \n",
      "[[10, 11], [10, 12]]\n"
     ]
    }
   ],
   "source": [
    "#method1\n",
    "def matrix(m,n):\n",
    "    o=[]\n",
    "    for i in range(m):\n",
    "        row=[]\n",
    "        for j in range(n):\n",
    "            inp = int(input(f\"Enter o[{i}{j}]\"))\n",
    "            row.append(inp)\n",
    "        o.append(row)\n",
    "    return o\n",
    "def sum(A,B):\n",
    "    output=[]\n",
    "    for i in range(len(A)):# number of rows\n",
    "        row=[]\n",
    "        for j in range(len(A[0])): # number of columns\n",
    "            row.append(A[i][j]+B[i][j])\n",
    "        output.append(row)\n",
    "    return output\n",
    "m=int(input(\"Enter the value of m\\n\"))\n",
    "n=int(input(\"Enter the value of n\\n\"))\n",
    "print(\"Enter Matrix A\")\n",
    "A=matrix(m,n)\n",
    "print(A)\n",
    "print(\"Enter Matrix B\")\n",
    "B=matrix(m,n)\n",
    "print(B)\n",
    "\n",
    "s= sum(A,B)\n",
    "print(f\"The sum of the matrices is \\n{s}\")"
   ]
  },
  {
   "cell_type": "code",
   "execution_count": null,
   "id": "e5036745",
   "metadata": {},
   "outputs": [],
   "source": [
    "#-----practice"
   ]
  },
  {
   "cell_type": "markdown",
   "id": "abb2f29d",
   "metadata": {},
   "source": [
    "row=int(input(\"Enter the row number:\"))\n",
    "col= int(input(\"Enter the column number:\"))\n",
    "for j in range(row):\n",
    "    for i in range(col):\n",
    "        int(input()) "
   ]
  },
  {
   "cell_type": "code",
   "execution_count": null,
   "id": "1acc712d",
   "metadata": {},
   "outputs": [],
   "source": [
    "#------end of practice"
   ]
  },
  {
   "cell_type": "code",
   "execution_count": 8,
   "id": "4aa5d486",
   "metadata": {},
   "outputs": [
    {
     "name": "stdout",
     "output_type": "stream",
     "text": [
      "Enter the row number:2\n",
      "Enter the column number:2\n",
      "Enter the elements for matrix1:\n",
      "3\n",
      "5\n",
      "6\n",
      "7\n",
      "matrix1:\n",
      "3  5  \n",
      "6  7  \n",
      "Enter the elements for matrix2:\n",
      "4\n",
      "5\n",
      "6\n",
      "6\n",
      "matrix2:\n",
      "4  5  \n",
      "6  6  \n",
      "7    10   \n",
      "12   13   \n"
     ]
    }
   ],
   "source": [
    "#method 2\n",
    "row=int(input(\"Enter the row number:\"))\n",
    "col= int(input(\"Enter the column number:\"))\n",
    "\n",
    "print(\"Enter the elements for matrix1:\")\n",
    "matrix1=[[int(input()) for i in range(col)] for j in range(row)]\n",
    "print(\"matrix1:\")\n",
    "for i in range(row):\n",
    "    for j in range(col):\n",
    "        print(format(matrix1[i][j],\"<3\"),end=\"\")\n",
    "    print() #after each row we want to go in new line\n",
    "\n",
    "print(\"Enter the elements for matrix2:\")\n",
    "matrix2=[[int(input()) for i in range(col)] for j in range(row)]\n",
    "print(\"matrix2:\")\n",
    "for i in range(row):\n",
    "    for j in range(col):\n",
    "        print(format(matrix2[i][j],\"<3\"),end=\"\")\n",
    "    print() #after each row we want to go in new line  \n",
    "result=[[0 for i in range(col)] for j in range(row)]\n",
    "for i in range(row):\n",
    "    for j in range(col):\n",
    "        result[i][j]=matrix1[i][j]+matrix2[i][j]\n",
    "for i in range(row):\n",
    "    for j in range(col):\n",
    "        print(format(result[i][j],\"<5\"),end=\"\")\n",
    "    print()\n",
    "        "
   ]
  },
  {
   "cell_type": "markdown",
   "id": "58fc7562",
   "metadata": {},
   "source": [
    "## 2. Write a Python Program to Multiply Two Matrices?"
   ]
  },
  {
   "cell_type": "markdown",
   "id": "0c59013e",
   "metadata": {},
   "source": [
    "matrix 1                   matrix 2\n",
    "pxn                           nxq"
   ]
  },
  {
   "cell_type": "code",
   "execution_count": 5,
   "id": "e35cb3ba",
   "metadata": {},
   "outputs": [
    {
     "name": "stdout",
     "output_type": "stream",
     "text": [
      "Enter the row number for matrix1:2\n",
      "Enter the column for matrix 2:2\n",
      "Enter the column number for matrix1/ row number of matrix2:2\n",
      "Enter the elements for matrix1:\n",
      "2\n",
      "3\n",
      "4\n",
      "5\n",
      "matrix 1:[[2, 3], [4, 5]]\n",
      "matrix1:\n",
      "2  3  \n",
      "4  5  \n",
      "Enter the elements for matrix2:\n",
      "6\n",
      "5\n",
      "4\n",
      "3\n",
      "matrix 2:[[6, 5], [4, 3]]\n",
      "matrix2:\n",
      "6  5  \n",
      "4  3  \n",
      "result is:\n",
      "24 19 \n",
      "44 35 \n"
     ]
    }
   ],
   "source": [
    "p=int(input(\"Enter the row number for matrix1:\"))\n",
    "q=int(input(\"Enter the column for matrix 2:\"))\n",
    "n= int(input(\"Enter the column number for matrix1/ row number of matrix2:\"))\n",
    "\n",
    "print(\"Enter the elements for matrix1:\")\n",
    "matrix1=[[int(input()) for i in range(n)] for j in range(p)]\n",
    "print(f\"matrix 1:{matrix1}\")\n",
    "print(\"matrix1:\")\n",
    "\n",
    "for i in range(p):\n",
    "    for j in range(n):\n",
    "        print(format(matrix1[i][j],\"<3\"),end=\"\")\n",
    "    print()\n",
    "\n",
    "    \n",
    "print(\"Enter the elements for matrix2:\")\n",
    "matrix2=[[int(input()) for i in range(q)] for j in range(n)]\n",
    "print(f\"matrix 2:{matrix2}\")\n",
    "print(\"matrix2:\")\n",
    "\n",
    "for i in range(n):\n",
    "    for j in range(q):\n",
    "        print(format(matrix2[i][j],\"<3\"),end=\"\")\n",
    "    print()\n",
    "result=[[0 for i in range(q)] for j in range (p)]\n",
    "\n",
    "for i in range(p):\n",
    "    for j in range(q):\n",
    "        for k in range(n):\n",
    "            result[i][j] =result[i][j]+ matrix1[i][k] * matrix2[k][j]\n",
    "\n",
    "print(\"result is:\")\n",
    "for i in range(p):\n",
    "    for j in range(q):\n",
    "        print(format(result[i][j],\"<3\"),end=\"\")\n",
    "    print()"
   ]
  },
  {
   "cell_type": "markdown",
   "id": "14128629",
   "metadata": {},
   "source": [
    "## 3. Write a Python Program to Transpose a Matrix?"
   ]
  },
  {
   "cell_type": "code",
   "execution_count": 10,
   "id": "0fb722e1",
   "metadata": {},
   "outputs": [
    {
     "name": "stdout",
     "output_type": "stream",
     "text": [
      "Enter the number of rows:2\n",
      "Enter the number of columns:3\n",
      "Enter the values of matrix1:\n",
      "5\n",
      "6\n",
      "3\n",
      "5\n",
      "4\n",
      "5\n",
      "matrix1:[[5, 6, 3], [5, 4, 5]]\n",
      "matrix1:\n",
      "5   6   3   \n",
      "5   4   5   \n",
      "The transpose of the matrix1 is:\n",
      "5   5   \n",
      "6   4   \n",
      "3   5   \n"
     ]
    }
   ],
   "source": [
    "p=int(input(\"Enter the number of rows:\"))\n",
    "q=int(input(\"Enter the number of columns:\"))\n",
    "print(\"Enter the values of matrix1:\")\n",
    "matrix1=[[int(input()) for i in range(q)] for j in range(p)]\n",
    "print(f\"matrix1:{matrix1}\")\n",
    "print(\"matrix1:\")\n",
    "for i in range(p):\n",
    "    for j in range(q):\n",
    "        print(format(matrix1[i][j],\"<4\"),end=\"\")\n",
    "    print()\n",
    "result=[[0 for i in range(p)] for j in range(q)]\n",
    "for i in range(q):\n",
    "    for j in range(p):\n",
    "        result[i][j]=matrix1[j][i]\n",
    "print(\"The transpose of the matrix1 is:\")\n",
    "for i in range(q):\n",
    "    for j in range(p):\n",
    "        print(format(result[i][j],\"<4\"),end=\"\")\n",
    "    print()\n"
   ]
  },
  {
   "cell_type": "markdown",
   "id": "1ff9fbd9",
   "metadata": {},
   "source": [
    "## 4. Write a Python Program to Sort Words in Alphabetic Order?"
   ]
  },
  {
   "cell_type": "code",
   "execution_count": 14,
   "id": "903d2a43",
   "metadata": {},
   "outputs": [
    {
     "name": "stdout",
     "output_type": "stream",
     "text": [
      "['am', 'am', 'and', 'and', 'data', 'hello,', 'i', 'i', 'ineuron', 'is', 'it.', 'learning', 'loving', 'my', 'name', 'science', 'shikha', 'with']\n"
     ]
    }
   ],
   "source": [
    "s=\"Hello, my name is shikha and I am learning data science with ineuron and I am loving it.\"\n",
    "words= s.lower().split()\n",
    "words.sort()\n",
    "print(words)"
   ]
  },
  {
   "cell_type": "markdown",
   "id": "a58e8295",
   "metadata": {},
   "source": [
    "## 5. Write a Python Program to Remove Punctuation From a String?"
   ]
  },
  {
   "cell_type": "code",
   "execution_count": 15,
   "id": "1dd40dc4",
   "metadata": {},
   "outputs": [
    {
     "name": "stdout",
     "output_type": "stream",
     "text": [
      "Enter any string:hi my name is shikha.!!!!\n",
      "Original string:hi my name is shikha.!!!!\n",
      "NO PUNCTUATION STRING:hi my name is shikha\n"
     ]
    }
   ],
   "source": [
    "punctuations='''!@#$%^&*(){};:'\"\\/?<>,.[]'''\n",
    "s= input(\"Enter any string:\")\n",
    "\n",
    "no_punct=''\n",
    "for ch in s:\n",
    "    if ch not in punctuations:\n",
    "        no_punct=no_punct+ch\n",
    "        \n",
    "print(f\"Original string:{s}\")\n",
    "print(f\"NO PUNCTUATION STRING:{no_punct}\")"
   ]
  },
  {
   "cell_type": "code",
   "execution_count": null,
   "id": "415ce51c",
   "metadata": {},
   "outputs": [],
   "source": []
  }
 ],
 "metadata": {
  "kernelspec": {
   "display_name": "Python 3 (ipykernel)",
   "language": "python",
   "name": "python3"
  },
  "language_info": {
   "codemirror_mode": {
    "name": "ipython",
    "version": 3
   },
   "file_extension": ".py",
   "mimetype": "text/x-python",
   "name": "python",
   "nbconvert_exporter": "python",
   "pygments_lexer": "ipython3",
   "version": "3.9.7"
  }
 },
 "nbformat": 4,
 "nbformat_minor": 5
}
